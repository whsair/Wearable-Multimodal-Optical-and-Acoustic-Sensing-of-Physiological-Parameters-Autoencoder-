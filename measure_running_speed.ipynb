{
 "cells": [
  {
   "cell_type": "code",
   "execution_count": 1,
   "id": "occupied-learning",
   "metadata": {},
   "outputs": [],
   "source": [
    "from tflite_runtime.interpreter import Interpreter\n",
    "import numpy as np\n",
    "from time import time"
   ]
  },
  {
   "cell_type": "code",
   "execution_count": null,
   "id": "rapid-polymer",
   "metadata": {},
   "outputs": [],
   "source": []
  },
  {
   "cell_type": "code",
   "execution_count": 2,
   "id": "thermal-dependence",
   "metadata": {},
   "outputs": [],
   "source": [
    "X = np.random.randn(1,3832)"
   ]
  },
  {
   "cell_type": "code",
   "execution_count": 3,
   "id": "accessory-momentum",
   "metadata": {},
   "outputs": [],
   "source": [
    "interpreter = Interpreter(model_path=\"converted_model.tflite\")"
   ]
  },
  {
   "cell_type": "code",
   "execution_count": 4,
   "id": "diagnostic-render",
   "metadata": {},
   "outputs": [],
   "source": [
    "interpreter.allocate_tensors()\n",
    "input_details = interpreter.get_input_details()\n",
    "output_details = interpreter.get_output_details()"
   ]
  },
  {
   "cell_type": "code",
   "execution_count": 5,
   "id": "finnish-reader",
   "metadata": {},
   "outputs": [
    {
     "name": "stdout",
     "output_type": "stream",
     "text": [
      "0.0347 sec\n"
     ]
    }
   ],
   "source": [
    "\n",
    "t0 = time()\n",
    "\n",
    "\n",
    "input_data = np.array([X[0]], dtype=np.float32)\n",
    "interpreter.set_tensor(input_details[0]['index'], input_data)\n",
    "interpreter.invoke()\n",
    "output_data = interpreter.get_tensor(output_details[0]['index'])\n",
    "\n",
    "print(\"%.4f sec\" % (time() - t0))\n"
   ]
  },
  {
   "cell_type": "code",
   "execution_count": 2,
   "id": "another-samoa",
   "metadata": {},
   "outputs": [],
   "source": [
    "def timeit(func, arg1, arg2, iterations):\n",
    "    t0 = time()\n",
    "    for _ in range(iterations):\n",
    "        func(arg1,arg2)\n",
    "    print(\"%.4f sec\" % (time() - t0))"
   ]
  },
  {
   "cell_type": "code",
   "execution_count": 5,
   "id": "violent-muscle",
   "metadata": {},
   "outputs": [],
   "source": [
    "def timeit_arg1(func, arg, iterations):\n",
    "    t0 = time()\n",
    "    for _ in range(iterations):\n",
    "        func(arg)\n",
    "    print(\"%.4f sec\" % (time() - t0))"
   ]
  },
  {
   "cell_type": "code",
   "execution_count": 6,
   "id": "secure-alpha",
   "metadata": {},
   "outputs": [],
   "source": [
    "X_test = np.genfromtxt('X_test.csv', delimiter=',')"
   ]
  },
  {
   "cell_type": "code",
   "execution_count": 7,
   "id": "unlike-damage",
   "metadata": {},
   "outputs": [
    {
     "data": {
      "text/plain": [
       "(184, 3832)"
      ]
     },
     "execution_count": 7,
     "metadata": {},
     "output_type": "execute_result"
    }
   ],
   "source": [
    "X_test.shape"
   ]
  },
  {
   "cell_type": "code",
   "execution_count": 8,
   "id": "temporal-donna",
   "metadata": {},
   "outputs": [
    {
     "data": {
      "text/plain": [
       "array([[ 0.88602721, -0.76609242, -0.63077921, ...,  0.99524397,\n",
       "         0.69511322,  1.78431225]])"
      ]
     },
     "execution_count": 8,
     "metadata": {},
     "output_type": "execute_result"
    }
   ],
   "source": [
    "X = np.random.randn(1,3832)\n",
    "X"
   ]
  },
  {
   "cell_type": "code",
   "execution_count": 9,
   "id": "infrared-paris",
   "metadata": {},
   "outputs": [],
   "source": [
    "interpreter = Interpreter(model_path=\"converted_model.tflite\")\n",
    "interpreter.allocate_tensors()\n",
    "input_details = interpreter.get_input_details()\n",
    "output_details = interpreter.get_output_details()"
   ]
  },
  {
   "cell_type": "code",
   "execution_count": 10,
   "id": "increased-cigarette",
   "metadata": {},
   "outputs": [],
   "source": [
    "input_data = np.array([X[0]], dtype=np.float32)"
   ]
  },
  {
   "cell_type": "code",
   "execution_count": 11,
   "id": "annoying-actress",
   "metadata": {},
   "outputs": [
    {
     "name": "stdout",
     "output_type": "stream",
     "text": [
      "0.0198 sec\n"
     ]
    }
   ],
   "source": [
    "timeit(interpreter.set_tensor, input_details[0]['index'], input_data,1000)"
   ]
  },
  {
   "cell_type": "code",
   "execution_count": 7,
   "id": "palestinian-ferry",
   "metadata": {},
   "outputs": [
    {
     "name": "stdout",
     "output_type": "stream",
     "text": [
      "The slowest run took 12.70 times longer than the fastest. This could mean that an intermediate result is being cached.\n",
      "100000 loops, best of 5: 4.9 µs per loop\n"
     ]
    }
   ],
   "source": [
    "\n",
    "%timeit interpreter.set_tensor(input_details[0]['index'], input_data)\n",
    "\n"
   ]
  },
  {
   "cell_type": "code",
   "execution_count": 12,
   "id": "gorgeous-sigma",
   "metadata": {},
   "outputs": [],
   "source": [
    "interpreter.invoke()"
   ]
  },
  {
   "cell_type": "code",
   "execution_count": 13,
   "id": "filled-freedom",
   "metadata": {},
   "outputs": [
    {
     "name": "stdout",
     "output_type": "stream",
     "text": [
      "0.0262 sec\n"
     ]
    }
   ],
   "source": [
    "timeit_arg1(interpreter.get_tensor, input_details[0]['index'], 1000)"
   ]
  },
  {
   "cell_type": "code",
   "execution_count": 8,
   "id": "smart-voice",
   "metadata": {},
   "outputs": [
    {
     "name": "stdout",
     "output_type": "stream",
     "text": [
      "[[0. 0. 0. ... 0. 0. 0.]]\n"
     ]
    }
   ],
   "source": [
    "interpreter.invoke()\n",
    "output_data = interpreter.get_tensor(output_details[0]['index'])\n",
    "print(output_data)"
   ]
  },
  {
   "cell_type": "code",
   "execution_count": 9,
   "id": "aggressive-pressing",
   "metadata": {},
   "outputs": [
    {
     "name": "stdout",
     "output_type": "stream",
     "text": [
      "The slowest run took 10.97 times longer than the fastest. This could mean that an intermediate result is being cached.\n",
      "100000 loops, best of 5: 5.98 µs per loop\n"
     ]
    }
   ],
   "source": [
    "%timeit interpreter.get_tensor(output_details[0]['index'])"
   ]
  },
  {
   "cell_type": "code",
   "execution_count": null,
   "id": "dynamic-reply",
   "metadata": {},
   "outputs": [],
   "source": []
  }
 ],
 "metadata": {
  "kernelspec": {
   "display_name": "Python 3",
   "language": "python",
   "name": "python3"
  },
  "language_info": {
   "codemirror_mode": {
    "name": "ipython",
    "version": 3
   },
   "file_extension": ".py",
   "mimetype": "text/x-python",
   "name": "python",
   "nbconvert_exporter": "python",
   "pygments_lexer": "ipython3",
   "version": "3.7.3"
  }
 },
 "nbformat": 4,
 "nbformat_minor": 5
}
